{
 "cells": [
  {
   "cell_type": "code",
   "execution_count": 1,
   "id": "bulgarian-czech",
   "metadata": {},
   "outputs": [],
   "source": [
    "import fastai\n",
    "import torch\n",
    "import torchvision\n",
    "import os\n",
    "\n",
    "from PIL import Image \n",
    "from PIL import ImageFilter \n"
   ]
  },
  {
   "cell_type": "code",
   "execution_count": 3,
   "id": "overall-engineer",
   "metadata": {},
   "outputs": [],
   "source": [
    "# Crop, create rotate 0\n",
    "raw_path =\"data/raw/cano\"\n",
    "out_path =\"data/cano/rotate0\"\n",
    "if not os.path.isdir(out_path): os.mkdir(out_path)\n",
    "\n",
    "for p in os.listdir(raw_path):   \n",
    "    img = Image.open(os.path.join(raw_path, p)) \n",
    "    img.crop((100,100,1200,1200)).save(os.path.join(out_path, p)) "
   ]
  },
  {
   "cell_type": "code",
   "execution_count": null,
   "id": "native-growing",
   "metadata": {},
   "outputs": [],
   "source": [
    "def rotate(in_path = \"data/cano/rotate0\", out_path = \"data/cano/rotate90\",rotation=90):\n",
    "    if not os.path.isdir(out_path): os.mkdir(out_path)\n",
    "    for p in os.listdir(in_path):   \n",
    "        img = Image.open(os.path.join(in_path, p)) \n",
    "        img.rotate(rotation).save(os.path.join(out_path, p)) \n",
    "rotate(in_path=\"data/cano/rotate0\", out_path=\"data/cano/rotate90\", rotation=90)\n",
    "rotate(in_path=\"data/cano/rotate0\", out_path=\"data/cano/rotate180\", rotation=180)\n",
    "rotate(in_path=\"data/cano/rotate0\", out_path=\"data/cano/rotate270\", rotation=270)"
   ]
  }
 ],
 "metadata": {
  "kernelspec": {
   "display_name": "Python 3",
   "language": "python",
   "name": "python3"
  },
  "language_info": {
   "codemirror_mode": {
    "name": "ipython",
    "version": 3
   },
   "file_extension": ".py",
   "mimetype": "text/x-python",
   "name": "python",
   "nbconvert_exporter": "python",
   "pygments_lexer": "ipython3",
   "version": "3.8.8"
  }
 },
 "nbformat": 4,
 "nbformat_minor": 5
}
